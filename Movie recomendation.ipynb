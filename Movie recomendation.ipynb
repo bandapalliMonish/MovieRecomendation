{
 "cells": [
  {
   "cell_type": "markdown",
   "metadata": {
    "application/vnd.databricks.v1+cell": {
     "cellMetadata": {},
     "inputWidgets": {},
     "nuid": "b846830a-a86e-43cc-ac55-7556d2c886f9",
     "showTitle": false,
     "title": ""
    }
   },
   "source": [
    "###Importing the SPARK SESSION"
   ]
  },
  {
   "cell_type": "code",
   "execution_count": 0,
   "metadata": {
    "application/vnd.databricks.v1+cell": {
     "cellMetadata": {
      "byteLimit": 2048000,
      "rowLimit": 10000
     },
     "inputWidgets": {},
     "nuid": "b0210736-4878-4ad4-bc05-c3ac3873b839",
     "showTitle": false,
     "title": ""
    }
   },
   "outputs": [],
   "source": [
    "from pyspark.sql import SparkSession\n",
    "spark = SparkSession.builder.appName(\"Movie_Recomendation\").getOrCreate()"
   ]
  },
  {
   "cell_type": "markdown",
   "metadata": {
    "application/vnd.databricks.v1+cell": {
     "cellMetadata": {},
     "inputWidgets": {},
     "nuid": "69cca109-0d68-454c-9057-840f778d903a",
     "showTitle": false,
     "title": ""
    }
   },
   "source": [
    "###Importing the Dataset"
   ]
  },
  {
   "cell_type": "code",
   "execution_count": 0,
   "metadata": {
    "application/vnd.databricks.v1+cell": {
     "cellMetadata": {
      "byteLimit": 2048000,
      "rowLimit": 10000
     },
     "inputWidgets": {},
     "nuid": "6d7d8d55-ccb7-485f-b0ca-9f588eb151b7",
     "showTitle": false,
     "title": ""
    }
   },
   "outputs": [],
   "source": [
    "df = spark.read.csv(\n",
    "    \"/FileStore/tables/12_movielens_ratings.csv\",\n",
    "    inferSchema=True,\n",
    "    header=True,\n",
    ")"
   ]
  },
  {
   "cell_type": "code",
   "execution_count": 0,
   "metadata": {
    "application/vnd.databricks.v1+cell": {
     "cellMetadata": {
      "byteLimit": 2048000,
      "rowLimit": 10000
     },
     "inputWidgets": {},
     "nuid": "e34ee955-a75c-4b63-85fc-b926980ea4f8",
     "showTitle": false,
     "title": ""
    }
   },
   "outputs": [
    {
     "output_type": "stream",
     "name": "stdout",
     "output_type": "stream",
     "text": [
      "+-------+------+------+\n|movieId|rating|userId|\n+-------+------+------+\n|      2|   3.0|     0|\n|      3|   1.0|     0|\n|      5|   2.0|     0|\n|      9|   4.0|     0|\n|     11|   1.0|     0|\n|     12|   2.0|     0|\n|     15|   1.0|     0|\n|     17|   1.0|     0|\n|     19|   1.0|     0|\n|     21|   1.0|     0|\n|     23|   1.0|     0|\n|     26|   3.0|     0|\n|     27|   1.0|     0|\n|     28|   1.0|     0|\n|     29|   1.0|     0|\n|     30|   1.0|     0|\n|     31|   1.0|     0|\n|     34|   1.0|     0|\n|     37|   1.0|     0|\n|     41|   2.0|     0|\n+-------+------+------+\nonly showing top 20 rows\n\n"
     ]
    }
   ],
   "source": [
    "df.show()"
   ]
  },
  {
   "cell_type": "markdown",
   "metadata": {
    "application/vnd.databricks.v1+cell": {
     "cellMetadata": {},
     "inputWidgets": {},
     "nuid": "3ac63673-df6a-46c1-9939-760916cf69ac",
     "showTitle": false,
     "title": ""
    }
   },
   "source": [
    "###Description of Dataset"
   ]
  },
  {
   "cell_type": "code",
   "execution_count": 0,
   "metadata": {
    "application/vnd.databricks.v1+cell": {
     "cellMetadata": {
      "byteLimit": 2048000,
      "rowLimit": 10000
     },
     "inputWidgets": {},
     "nuid": "9129d1b5-e411-484f-8e99-1aeff46c28aa",
     "showTitle": false,
     "title": ""
    }
   },
   "outputs": [
    {
     "output_type": "stream",
     "name": "stdout",
     "output_type": "stream",
     "text": [
      "+-------+------------------+------------------+------------------+\n|summary|           movieId|            rating|            userId|\n+-------+------------------+------------------+------------------+\n|  count|              1501|              1501|              1501|\n|   mean| 49.40572951365756|1.7741505662891406|14.383744170552964|\n| stddev|28.937034065088994| 1.187276166124803| 8.591040424293272|\n|    min|                 0|               1.0|                 0|\n|    max|                99|               5.0|                29|\n+-------+------------------+------------------+------------------+\n\n"
     ]
    }
   ],
   "source": [
    "df.describe().show()"
   ]
  },
  {
   "cell_type": "markdown",
   "metadata": {
    "application/vnd.databricks.v1+cell": {
     "cellMetadata": {},
     "inputWidgets": {},
     "nuid": "ca549f8a-631f-4107-9b92-257511c7ed43",
     "showTitle": false,
     "title": ""
    }
   },
   "source": [
    "###Splitting the Dataset"
   ]
  },
  {
   "cell_type": "code",
   "execution_count": 0,
   "metadata": {
    "application/vnd.databricks.v1+cell": {
     "cellMetadata": {
      "byteLimit": 2048000,
      "rowLimit": 10000
     },
     "inputWidgets": {},
     "nuid": "17c1740d-ac25-4a01-b6b8-aa1e9f1d8e9f",
     "showTitle": false,
     "title": ""
    }
   },
   "outputs": [],
   "source": [
    "training_set, test_set = df.randomSplit([0.8, 0.2])"
   ]
  },
  {
   "cell_type": "markdown",
   "metadata": {
    "application/vnd.databricks.v1+cell": {
     "cellMetadata": {},
     "inputWidgets": {},
     "nuid": "7f73fe57-08b0-42d7-8b70-3f9d628be9c8",
     "showTitle": false,
     "title": ""
    }
   },
   "source": [
    "###Let's Create a Model"
   ]
  },
  {
   "cell_type": "code",
   "execution_count": 0,
   "metadata": {
    "application/vnd.databricks.v1+cell": {
     "cellMetadata": {
      "byteLimit": 2048000,
      "rowLimit": 10000
     },
     "inputWidgets": {},
     "nuid": "1dec9ca4-c2f8-4a84-a07d-92c241353bac",
     "showTitle": false,
     "title": ""
    }
   },
   "outputs": [],
   "source": [
    "from pyspark.ml.recommendation import ALS\n",
    "recommender = ALS(userCol= 'userId' , itemCol='movieId' , ratingCol='rating' )\n",
    "recommender = recommender.fit(training_set)"
   ]
  },
  {
   "cell_type": "markdown",
   "metadata": {
    "application/vnd.databricks.v1+cell": {
     "cellMetadata": {},
     "inputWidgets": {},
     "nuid": "312cc791-29d0-4b0d-88a3-32d8854482de",
     "showTitle": false,
     "title": ""
    }
   },
   "source": [
    "###Predicting Using The Test Set"
   ]
  },
  {
   "cell_type": "code",
   "execution_count": 0,
   "metadata": {
    "application/vnd.databricks.v1+cell": {
     "cellMetadata": {
      "byteLimit": 2048000,
      "rowLimit": 10000
     },
     "inputWidgets": {},
     "nuid": "529803e9-8a3b-40ab-a805-f50ebaf73d71",
     "showTitle": false,
     "title": ""
    }
   },
   "outputs": [],
   "source": [
    "prediction = recommender.transform(test_set)"
   ]
  },
  {
   "cell_type": "code",
   "execution_count": 0,
   "metadata": {
    "application/vnd.databricks.v1+cell": {
     "cellMetadata": {
      "byteLimit": 2048000,
      "rowLimit": 10000
     },
     "inputWidgets": {},
     "nuid": "420b95a0-40a3-4ec8-a05c-3880e85dcc5d",
     "showTitle": false,
     "title": ""
    }
   },
   "outputs": [
    {
     "output_type": "stream",
     "name": "stdout",
     "output_type": "stream",
     "text": [
      "+-------+------+------+----------+\n|movieId|rating|userId|prediction|\n+-------+------+------+----------+\n|      2|   4.0|    28| 1.9127501|\n|      3|   1.0|    26| 1.4242408|\n|      2|   1.0|    12| 1.2702665|\n|      0|   1.0|    22| 0.8881091|\n|      5|   2.0|    22| 1.7864375|\n|      0|   1.0|     6|0.87236214|\n|      2|   3.0|     6| 1.8105493|\n|      5|   1.0|     6|    1.3277|\n|      1|   1.0|    20| 1.0923432|\n|      0|   1.0|     5| 1.3210535|\n|      1|   1.0|    19| 1.6709225|\n|      2|   1.0|    15| 0.7689161|\n|      5|   2.0|    15|0.67889017|\n|      3|   1.0|    17| 1.1852053|\n|      5|   1.0|     8| 1.8474325|\n|      4|   1.0|    23| 1.0941532|\n|      2|   4.0|    10| 1.9065617|\n|      2|   1.0|    25| 1.1367258|\n|      2|   4.0|    21| 2.8393636|\n|      3|   1.0|     0| 0.6998131|\n+-------+------+------+----------+\nonly showing top 20 rows\n\n"
     ]
    }
   ],
   "source": [
    "prediction.show()"
   ]
  },
  {
   "cell_type": "markdown",
   "metadata": {
    "application/vnd.databricks.v1+cell": {
     "cellMetadata": {},
     "inputWidgets": {},
     "nuid": "7259a123-cb1f-46d2-b932-928a35ef50a9",
     "showTitle": false,
     "title": ""
    }
   },
   "source": [
    "###Evaluating the Model"
   ]
  },
  {
   "cell_type": "code",
   "execution_count": 0,
   "metadata": {
    "application/vnd.databricks.v1+cell": {
     "cellMetadata": {
      "byteLimit": 2048000,
      "rowLimit": 10000
     },
     "inputWidgets": {},
     "nuid": "c52ae362-9b4a-435c-a77b-9eda1910f66c",
     "showTitle": false,
     "title": ""
    }
   },
   "outputs": [
    {
     "output_type": "stream",
     "name": "stdout",
     "output_type": "stream",
     "text": [
      "Out[30]: 1.0883201354147838"
     ]
    }
   ],
   "source": [
    "from pyspark.ml.evaluation import RegressionEvaluator\n",
    "evaluator = RegressionEvaluator(labelCol='rating')\n",
    "evaluator.evaluate(prediction)"
   ]
  },
  {
   "cell_type": "markdown",
   "metadata": {
    "application/vnd.databricks.v1+cell": {
     "cellMetadata": {},
     "inputWidgets": {},
     "nuid": "96b1c49e-4cc3-42f7-b9ea-728dc3f9b8be",
     "showTitle": false,
     "title": ""
    }
   },
   "source": [
    "###Making a Recommendation"
   ]
  },
  {
   "cell_type": "code",
   "execution_count": 0,
   "metadata": {
    "application/vnd.databricks.v1+cell": {
     "cellMetadata": {
      "byteLimit": 2048000,
      "rowLimit": 10000
     },
     "inputWidgets": {},
     "nuid": "0c4c7752-510e-4df4-b899-606371a57922",
     "showTitle": false,
     "title": ""
    }
   },
   "outputs": [
    {
     "output_type": "stream",
     "name": "stdout",
     "output_type": "stream",
     "text": [
      "+-------+------+------+\n|movieId|rating|userId|\n+-------+------+------+\n|      0|   1.0|     5|\n|      0|   1.0|     6|\n|      0|   1.0|    22|\n|      1|   1.0|    19|\n|      1|   1.0|    20|\n|      2|   1.0|    12|\n|      2|   1.0|    15|\n|      2|   1.0|    25|\n|      2|   3.0|     6|\n|      2|   4.0|    10|\n|      2|   4.0|    21|\n|      2|   4.0|    28|\n|      3|   1.0|     0|\n|      3|   1.0|    17|\n|      3|   1.0|    26|\n|      4|   1.0|    23|\n|      4|   3.0|    18|\n|      5|   1.0|     6|\n|      5|   1.0|     8|\n|      5|   2.0|    15|\n+-------+------+------+\nonly showing top 20 rows\n\n"
     ]
    }
   ],
   "source": [
    "test_set.show() "
   ]
  },
  {
   "cell_type": "code",
   "execution_count": 0,
   "metadata": {
    "application/vnd.databricks.v1+cell": {
     "cellMetadata": {
      "byteLimit": 2048000,
      "rowLimit": 10000
     },
     "inputWidgets": {},
     "nuid": "4c170a99-4b6b-4cea-8e26-e96b86648886",
     "showTitle": false,
     "title": ""
    }
   },
   "outputs": [
    {
     "output_type": "stream",
     "name": "stdout",
     "output_type": "stream",
     "text": [
      "+-------+------+------+\n|movieId|rating|userId|\n+-------+------+------+\n|      4|   1.0|    23|\n|     18|   4.0|    23|\n|     50|   4.0|    23|\n|     67|   1.0|    23|\n|     72|   1.0|    23|\n|     73|   3.0|    23|\n|     82|   2.0|    23|\n+-------+------+------+\n\n"
     ]
    }
   ],
   "source": [
    "test_set.filter(test_set['userId']==23).show()"
   ]
  },
  {
   "cell_type": "code",
   "execution_count": 0,
   "metadata": {
    "application/vnd.databricks.v1+cell": {
     "cellMetadata": {
      "byteLimit": 2048000,
      "rowLimit": 10000
     },
     "inputWidgets": {},
     "nuid": "45b3fcb5-9b81-4ade-aa40-3115f3927bc3",
     "showTitle": false,
     "title": ""
    }
   },
   "outputs": [],
   "source": [
    "single_user = test_set.filter(test_set['userId']==23).select(['userId', 'movieId'])"
   ]
  },
  {
   "cell_type": "code",
   "execution_count": 0,
   "metadata": {
    "application/vnd.databricks.v1+cell": {
     "cellMetadata": {
      "byteLimit": 2048000,
      "rowLimit": 10000
     },
     "inputWidgets": {},
     "nuid": "32246b51-6101-4f9a-895b-df65307aa1fe",
     "showTitle": false,
     "title": ""
    }
   },
   "outputs": [
    {
     "output_type": "stream",
     "name": "stdout",
     "output_type": "stream",
     "text": [
      "+------+-------+\n|userId|movieId|\n+------+-------+\n|    23|      4|\n|    23|     18|\n|    23|     50|\n|    23|     67|\n|    23|     72|\n|    23|     73|\n|    23|     82|\n+------+-------+\n\n"
     ]
    }
   ],
   "source": [
    "single_user.show()\n"
   ]
  },
  {
   "cell_type": "code",
   "execution_count": 0,
   "metadata": {
    "application/vnd.databricks.v1+cell": {
     "cellMetadata": {
      "byteLimit": 2048000,
      "rowLimit": 10000
     },
     "inputWidgets": {},
     "nuid": "e1a60841-45c4-499b-99d5-2a1fce3594d1",
     "showTitle": false,
     "title": ""
    }
   },
   "outputs": [],
   "source": [
    "recommendations = recommender.transform(single_user)"
   ]
  },
  {
   "cell_type": "code",
   "execution_count": 0,
   "metadata": {
    "application/vnd.databricks.v1+cell": {
     "cellMetadata": {
      "byteLimit": 2048000,
      "rowLimit": 10000
     },
     "inputWidgets": {},
     "nuid": "3b9d7a87-1589-4873-99e7-3937fc7118a4",
     "showTitle": false,
     "title": ""
    }
   },
   "outputs": [
    {
     "output_type": "stream",
     "name": "stdout",
     "output_type": "stream",
     "text": [
      "+------+-------+----------+\n|userId|movieId|prediction|\n+------+-------+----------+\n|    23|     50| 3.5972977|\n|    23|     18| 2.9967515|\n|    23|     73| 2.0316827|\n|    23|     82| 1.5852365|\n|    23|     72| 1.2031747|\n|    23|      4| 1.0941532|\n|    23|     67| 0.6178534|\n+------+-------+----------+\n\n"
     ]
    }
   ],
   "source": [
    "recommendations.orderBy('prediction', ascending=False).show()"
   ]
  },
  {
   "cell_type": "code",
   "execution_count": 0,
   "metadata": {
    "application/vnd.databricks.v1+cell": {
     "cellMetadata": {},
     "inputWidgets": {},
     "nuid": "5c533553-280d-4231-9c1d-be8de0c2c7ba",
     "showTitle": false,
     "title": ""
    }
   },
   "outputs": [],
   "source": []
  }
 ],
 "metadata": {
  "application/vnd.databricks.v1+notebook": {
   "dashboards": [],
   "language": "python",
   "notebookMetadata": {
    "pythonIndentUnit": 4
   },
   "notebookName": "Movie recomendation",
   "widgets": {}
  }
 },
 "nbformat": 4,
 "nbformat_minor": 0
}
